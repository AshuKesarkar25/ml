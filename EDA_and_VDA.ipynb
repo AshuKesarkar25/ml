{
  "nbformat": 4,
  "nbformat_minor": 0,
  "metadata": {
    "colab": {
      "provenance": []
    },
    "kernelspec": {
      "name": "python3",
      "display_name": "Python 3"
    },
    "language_info": {
      "name": "python"
    }
  },
  "cells": [
    {
      "cell_type": "code",
      "execution_count": null,
      "metadata": {
        "id": "YvDXsHuDem29"
      },
      "outputs": [],
      "source": [
        "import pandas as pd\n",
        "import numpy as np\n",
        "import matplotlib.pyplot as plt\n",
        "import seaborn as sns"
      ]
    },
    {
      "cell_type": "code",
      "source": [
        "##EDA\n",
        "df = pd.read_csv('./data/data-file.csv')\n",
        "# rows & cols\n",
        "print(\"Rows\",df.shape[0])\n",
        "print(\"Cols\",df.shape[1])\n",
        "# columns\n",
        "print(df.columns)\n",
        "# info\n",
        "print(df.info())\n",
        "# data types\n",
        "print(df.dtypes)\n",
        "# unique\n",
        "print(df.apply(lambda x: x.nunique()))\n",
        "# description\n",
        "print(df.describe())\n",
        "#head\n",
        "df.head()\n",
        "#nulls\n",
        "df.isnull().sum()\n",
        "\n",
        "##VDA\n",
        "# Heat Map\n",
        "plt.figure(figsize=(8,8))\n",
        "ax = sns.heatmap(df.corr(), annot=True, cmap=\"PiYG\")\n",
        "plt.show()\n",
        "# Box plot\n",
        "colNames = df.columns.tolist()\n",
        "for colName in colNames:\n",
        "    plt.figure()\n",
        "    sns.boxplot(y=df[colName], color='b')\n",
        "    plt.title(colName)\n",
        "    plt.show()\n",
        "# Histogram\n",
        "colNames = df.columns.tolist()\n",
        "for colName in colNames:\n",
        "    colValues = df[colName].values\n",
        "    plt.figure()\n",
        "    sns.distplot(colValues, bins=7, kde=False, color='b')\n",
        "    plt.title(colName)\n",
        "    plt.show()\n",
        "#  Scatter\n",
        "plt.scatter(x,y)\n",
        "plt.show()"
      ],
      "metadata": {
        "id": "E4au0BDvfCIk"
      },
      "execution_count": null,
      "outputs": []
    }
  ]
}